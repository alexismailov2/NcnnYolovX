{
  "nbformat": 4,
  "nbformat_minor": 0,
  "metadata": {
    "colab": {
      "provenance": []
    },
    "kernelspec": {
      "name": "python3",
      "display_name": "Python 3"
    },
    "accelerator": "GPU"
  },
  "cells": [
    {
      "cell_type": "markdown",
      "source": [
        "Baed on the tutorial notebook"
      ],
      "metadata": {
        "id": "CAlBlhfIbLr9"
      }
    },
    {
      "cell_type": "markdown",
      "metadata": {
        "id": "7mGmQbAO5pQb"
      },
      "source": [
        "# Setup\n",
        "\n",
        "Pip install `ultralytics` and [dependencies](https://github.com/ultralytics/ultralytics/blob/main/requirements.txt) and check software and hardware."
      ]
    },
    {
      "cell_type": "code",
      "metadata": {
        "id": "wbvMlHd_QwMG"
      },
      "source": [
        "%pip install ultralytics\n",
        "import ultralytics\n",
        "ultralytics.checks()\n",
        "\n",
        "%pip install onnxsim\n",
        "\n",
        "!apt install libprotobuf-dev\n",
        "!rm -rf ncnn &&\\\n",
        "git clone https://github.com/Tencent/ncnn.git &&\\\n",
        "cd ncnn &&\\\n",
        "cmake -Bbuild_host &&\\\n",
        "cmake --build build_host --target install"
      ],
      "execution_count": null,
      "outputs": []
    },
    {
      "cell_type": "markdown",
      "source": [
        "## 1. Detection\n",
        "\n",
        "YOLOv8 _detection_ models have no suffix and are the default YOLOv8 models, i.e. `yolov8n.pt` and are pretrained on COCO. See [Detection Docs](https://docs.ultralytics.com/tasks/detection/) for full details.\n"
      ],
      "metadata": {
        "id": "yq26lwpYK1lq"
      }
    },
    {
      "cell_type": "code",
      "source": [
        "# Load YOLOv8n, train it on COCO128 for 3 epochs and predict an image with it\n",
        "from ultralytics import YOLO\n",
        "\n",
        "model_det = YOLO('yolov8s.pt')  # load a pretrained YOLOv8n detection model\n",
        "model_det.train(project='det', data='coco128.yaml', epochs=3)  # train the model\n",
        "model_det('https://raw.githubusercontent.com/alexismailov2/OIYolo/main/assets/parking.jpg')  # predict on an image\n",
        "\n",
        "#model_det.export(format='onnx', opset=9)  # export the model to ONNX format\n",
        "\n",
        "#model can be found under\n",
        "#/content/det/train/weights/best.onnx\n",
        "\n",
        "#converting best.onnx to ncnn version(two files)\n",
        "\n",
        "# finally \n",
        "import locale\n",
        "locale.getpreferredencoding = lambda: \"UTF-8\"\n",
        "!yolo mode=export model=./det/train/weights/best.pt format=onnx opset=9\n",
        "!cp ./det/train/weights/best.onnx ./yolov8s.onnx \n",
        "!./ncnn/build_host/install/bin/onnx2ncnn ./yolov8s.onnx ./yolov8s.param ./yolov8s.bin\n",
        "# Not necesary, but it can increase performance\n",
        "#!./ncnn/build_host/install/bin/ncnnoptimize ./yolov8s.param ./yolov8s.bin ./yolov8s-opt.param ./yolov8s-opt.bin 65535\n"
      ],
      "metadata": {
        "id": "8Go5qqS9LbC5"
      },
      "execution_count": null,
      "outputs": []
    },
    {
      "cell_type": "markdown",
      "source": [
        "## 2. Segmentation\n",
        "\n",
        "YOLOv8 _segmentation_ models use the `-seg` suffix, i.e. `yolov8n-seg.pt` and are pretrained on COCO. See [Segmentation Docs](https://docs.ultralytics.com/tasks/segmentation/) for full details.\n"
      ],
      "metadata": {
        "id": "7ZW58jUzK66B"
      }
    },
    {
      "cell_type": "code",
      "source": [
        "# Load YOLOv8n-seg, train it on COCO128-seg for 3 epochs and predict an image with it\n",
        "from ultralytics import YOLO\n",
        "\n",
        "model_seg = YOLO('yolov8s-seg.pt')  # load a pretrained YOLOv8n segmentation model\n",
        "model_seg.train(project='seg', data='coco128-seg.yaml', epochs=3)  # train the model\n",
        "model_seg('https://ultralytics.com/images/bus.jpg')  # predict on an image\n",
        "#model_seg.export(format='onnx')  # export the model to ONNX format\n",
        "\n",
        "#model can be found under\n",
        "#/content/seg/train/weights/best.onnx\n",
        "# finally \n",
        "import locale\n",
        "locale.getpreferredencoding = lambda: \"UTF-8\"\n",
        "!yolo mode=export model=./seg/train/weights/best.pt format=onnx opset=9\n",
        "!cp ./seg/train/weights/best.onnx ./yolov8s-seg.onnx \n",
        "!./ncnn/build_host/install/bin/onnx2ncnn ./yolov8s-seg.onnx ./yolov8s-seg.param ./yolov8s-seg.bin\n",
        "# Not necesary, but it can increase performance\n",
        "#!./ncnn/build_host/install/bin/ncnnoptimize ./yolov8s-seg.param ./yolov8s-seg.bin ./yolov8s-seg-opt.param ./yolov8s-seg-opt.bin 65535"
      ],
      "metadata": {
        "id": "WFPJIQl_L5HT"
      },
      "execution_count": null,
      "outputs": []
    },
    {
      "cell_type": "markdown",
      "source": [
        "## 3. Classification\n",
        "\n",
        "YOLOv8 _classification_ models use the `-cls` suffix, i.e. `yolov8n-cls.pt` and are pretrained on ImageNet. See [Classification Docs](https://docs.ultralytics.com/tasks/classification/) for full details.\n"
      ],
      "metadata": {
        "id": "ax3p94VNK9zR"
      }
    },
    {
      "cell_type": "code",
      "source": [
        "# Load YOLOv8n-cls, train it on mnist160 for 3 epochs and predict an image with it\n",
        "from ultralytics import YOLO\n",
        "\n",
        "model_cls = YOLO('yolov8s-cls.pt')  # load a pretrained YOLOv8n classification model\n",
        "model_cls.train(project='cls', data='mnist160', epochs=3)  # train the model\n",
        "model_cls('https://ultralytics.com/images/bus.jpg')  # predict on an image\n",
        "#model_cls.export(format='onnx')  # export the model to ONNX format\n",
        "\n",
        "#model can be found under\n",
        "#/content/cls/train/weights/best.onnx\n",
        "import locale\n",
        "locale.getpreferredencoding = lambda: \"UTF-8\"\n",
        "!yolo mode=export model=./cls/train/weights/best.pt format=onnx opset=9\n",
        "!cp ./cls/train/weights/best.onnx ./yolov8s-cls.onnx\n",
        "!./ncnn/build_host/install/bin/onnx2ncnn ./yolov8s-cls.onnx ./yolov8s-cls.param ./yolov8s-cls.bin\n",
        "# Not necesary, but it can increase performance \n",
        "#!./ncnn/build_host/install/bin/ncnnoptimize ./yolov8s-cls.param ./yolov8s-cls.bin ./yolov8s-cls-opt.param ./yolov8s-cls-opt.bin 65535"
      ],
      "metadata": {
        "id": "5q9Zu6zlL5rS"
      },
      "execution_count": null,
      "outputs": []
    },
    {
      "cell_type": "code",
      "source": [],
      "metadata": {
        "id": "ge9c4IBZc3Ss"
      },
      "execution_count": null,
      "outputs": []
    }
  ]
}